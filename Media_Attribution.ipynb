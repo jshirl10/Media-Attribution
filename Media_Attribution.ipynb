{
  "nbformat": 4,
  "nbformat_minor": 0,
  "metadata": {
    "colab": {
      "provenance": []
    },
    "kernelspec": {
      "name": "python3",
      "display_name": "Python 3"
    },
    "language_info": {
      "name": "python"
    }
  },
  "cells": [
    {
      "cell_type": "markdown",
      "source": [
        "# Media Attribution\n",
        "Exploring single and multi-touch attribution"
      ],
      "metadata": {
        "id": "C68thT6TTBnQ"
      }
    },
    {
      "cell_type": "markdown",
      "source": [
        "Methods explored:\n",
        "\n",
        "*   Last-touch Attribution\n",
        "*   First-touch Attribution\n",
        "*   U-shaped Attribution\n",
        "*   Linear Attribution\n",
        "*   Time-decay Attribution\n",
        "*   Markov Chains\n"
      ],
      "metadata": {
        "id": "fjEqQCVpTMnH"
      }
    },
    {
      "cell_type": "markdown",
      "source": [
        "Installing code from this Github repo for use in Markov Chain Attribution:\n",
        "<b>\n",
        "\n",
        "https://github.com/jerednel/markov-chain-attribution/blob/master/readme.md"
      ],
      "metadata": {
        "id": "FUPJUI4sTjj_"
      }
    },
    {
      "cell_type": "code",
      "execution_count": 1,
      "metadata": {
        "colab": {
          "base_uri": "https://localhost:8080/"
        },
        "id": "2jmetHur3BAi",
        "outputId": "df1cd715-0078-4548-f7bc-22dbc4b7ae97"
      },
      "outputs": [
        {
          "output_type": "stream",
          "name": "stdout",
          "text": [
            "Collecting markov-model-attribution\n",
            "  Downloading markov_model_attribution-0.42-py3-none-any.whl (3.9 kB)\n",
            "Installing collected packages: markov-model-attribution\n",
            "Successfully installed markov-model-attribution-0.42\n"
          ]
        }
      ],
      "source": [
        "!pip install markov-model-attribution"
      ]
    },
    {
      "cell_type": "code",
      "source": [
        "import pandas as pd\n",
        "import numpy as np\n",
        "import matplotlib.pyplot as plt\n",
        "from matplotlib.pyplot import figure\n",
        "import markov_model_attribution as mma"
      ],
      "metadata": {
        "id": "PEnZQQkpTpd3"
      },
      "execution_count": 2,
      "outputs": []
    },
    {
      "cell_type": "markdown",
      "source": [
        "# User Paths"
      ],
      "metadata": {
        "id": "gft_5WDJTvDi"
      }
    },
    {
      "cell_type": "markdown",
      "source": [
        "Data must be provided in a DataFrame. The DataFrame must have 1 column named \"Paths.\" Each row is a single user with the path they took through our marketing efforts.\n",
        "<br>\n",
        "\n",
        "The user path must start with 'start'. Each step must be separated by a ' > '. And each user path must end with 'null' or 'conv'.\n",
        "<br>\n",
        "\n",
        "For example:\n",
        "\n",
        "```\n",
        "# This is formatted as code\n",
        "paths = pd.DataFrame({'Paths': ['start > S > P > null',\n",
        "                                'start > S > E > null',\n",
        "                                'start > S > P > E > conv']})\n",
        "```\n",
        "Where\n",
        "*   S: Social\n",
        "*   P: Paid Search\n",
        "*   E: Email\n"
      ],
      "metadata": {
        "id": "W73muRGzTwvd"
      }
    },
    {
      "cell_type": "markdown",
      "source": [
        "## Simple Example Data"
      ],
      "metadata": {
        "id": "VQ9AClKlT5Wp"
      }
    },
    {
      "cell_type": "code",
      "source": [
        "paths = pd.DataFrame({'Paths': ['start > S > P > null',\n",
        "                                'start > S > E > null',\n",
        "                                'start > P > E > conv']})\n",
        "\n",
        "df = paths.copy()"
      ],
      "metadata": {
        "id": "9VfImrL7Tq2x"
      },
      "execution_count": 3,
      "outputs": []
    },
    {
      "cell_type": "markdown",
      "source": [
        "# Formatting Data"
      ],
      "metadata": {
        "id": "k0JxHmckUIiQ"
      }
    },
    {
      "cell_type": "code",
      "source": [
        "paths = np.array(paths).tolist()\n",
        "sublist = []\n",
        "total_paths = 0\n",
        "for path in paths:\n",
        "    for touchpoint in path:\n",
        "        userpath = touchpoint.split(' > ')\n",
        "        sublist.append(userpath)\n",
        "    total_paths += 1\n",
        "paths = sublist"
      ],
      "metadata": {
        "id": "oIRnuR_jTuJz"
      },
      "execution_count": 4,
      "outputs": []
    },
    {
      "cell_type": "markdown",
      "source": [
        "# Heuristic Methods\n",
        "\n",
        "*   Last-touch Attribution\n",
        "*   First-touch Attribution\n",
        "*   U-shaped Attribution\n",
        "*   Linear Attribution\n",
        "*   Time-decay Attribution"
      ],
      "metadata": {
        "id": "ApqTpUTVUN6z"
      }
    },
    {
      "cell_type": "code",
      "source": [
        "unique_touch_list = set(x for element in paths for x in element)\n",
        "# get total last touch conversion counts\n",
        "last_conv_dict = {}\n",
        "first_conv_dict = {}\n",
        "u_conv_dict = {}\n",
        "lin_conv_dict = {}\n",
        "time_decay_conv_dict = {}\n",
        "\n",
        "total_conversions = 0\n",
        "for item in unique_touch_list:\n",
        "    last_conv_dict[item] = 0\n",
        "    first_conv_dict[item] = 0\n",
        "    u_conv_dict[item] = 0\n",
        "    lin_conv_dict[item] = 0\n",
        "    time_decay_conv_dict[item] = 0\n",
        "\n",
        "for path in paths:\n",
        "    if 'conv' in path:\n",
        "        total_conversions += 1\n",
        "\n",
        "        # Last Touch Attribution\n",
        "        last_conv_dict[path[-2]] += 1\n",
        "\n",
        "        # First Touch Attribution\n",
        "        first_conv_dict[path[1]] += 1\n",
        "\n",
        "        # U-shaped Attribution\n",
        "        if len(path) == 3:\n",
        "          u_conv_dict[path[1]] += 1\n",
        "        elif len(path) == 4:\n",
        "          u_conv_dict[path[1]] += 0.5\n",
        "          u_conv_dict[path[-2]] += 0.5\n",
        "        else:\n",
        "          middle_touch_count = len(path) - 4\n",
        "          u_conv_dict[path[1]] += 0.4\n",
        "          u_conv_dict[path[-2]] += 0.4\n",
        "          percent_to_distribute = 0.2 / middle_touch_count\n",
        "          for i in range(2, 2 + middle_touch_count):\n",
        "            u_conv_dict[path[i]] += percent_to_distribute\n",
        "\n",
        "        # Linear Attribution\n",
        "        touchpoints = len(path) - 2\n",
        "        percent_to_distribute = 1 / touchpoints\n",
        "        for i in range(1, len(path) - 1):\n",
        "          lin_conv_dict[path[i]] += percent_to_distribute\n",
        "\n",
        "        # Time Decay Attribution\n",
        "        touchpoints = len(path) - 2\n",
        "        total = sum(1 / 2 ** i for i in range(touchpoints))\n",
        "        denominator = 2 ** (touchpoints - 1)\n",
        "        for i in range(touchpoints, 0, -1):\n",
        "          time_decay_conv_dict[path[-i - 1]] += ((1 / total) * (1 / denominator))\n",
        "          denominator /= 2\n",
        "\n",
        "last_conv_dict.pop('conv', None)\n",
        "last_conv_dict.pop('null', None)\n",
        "last_conv_dict.pop('start', None)\n",
        "first_conv_dict.pop('conv', None)\n",
        "first_conv_dict.pop('null', None)\n",
        "first_conv_dict.pop('start', None)\n",
        "u_conv_dict.pop('conv', None)\n",
        "u_conv_dict.pop('null', None)\n",
        "u_conv_dict.pop('start', None)\n",
        "lin_conv_dict.pop('conv', None)\n",
        "lin_conv_dict.pop('null', None)\n",
        "lin_conv_dict.pop('start', None)\n",
        "time_decay_conv_dict.pop('conv', None)\n",
        "time_decay_conv_dict.pop('null', None)\n",
        "time_decay_conv_dict.pop('start', None)"
      ],
      "metadata": {
        "id": "2ay94VVHUFHS",
        "colab": {
          "base_uri": "https://localhost:8080/"
        },
        "outputId": "784ebe5e-0789-4a91-ee5c-07d70536d097"
      },
      "execution_count": 5,
      "outputs": [
        {
          "output_type": "execute_result",
          "data": {
            "text/plain": [
              "0"
            ]
          },
          "metadata": {},
          "execution_count": 5
        }
      ]
    },
    {
      "cell_type": "markdown",
      "source": [
        "# Algorithmic Attribution\n",
        "\n",
        "* Markov Chains"
      ],
      "metadata": {
        "id": "bjRR6w9Qi7EZ"
      }
    },
    {
      "cell_type": "code",
      "source": [
        "model = mma.run_model(paths=df)"
      ],
      "metadata": {
        "id": "zxjw1Duci-z8"
      },
      "execution_count": 6,
      "outputs": []
    },
    {
      "cell_type": "markdown",
      "source": [
        "# Results"
      ],
      "metadata": {
        "id": "Z_J2CuzgjBXl"
      }
    },
    {
      "cell_type": "code",
      "source": [
        "def round_values(test_dict):\n",
        "  temp = {}\n",
        "  for key in test_dict:\n",
        "      temp[key] = round(test_dict[key], 3)\n",
        "  return temp"
      ],
      "metadata": {
        "id": "Z_Fw6tUDiSZL"
      },
      "execution_count": 7,
      "outputs": []
    },
    {
      "cell_type": "code",
      "source": [
        "print(f'Of all {total_conversions} conversions, how many can be attributed to each channel?\\n')\n",
        "print('Last: \\t', round_values(last_conv_dict))\n",
        "print('First: \\t', round_values(first_conv_dict))\n",
        "print('U-shape:', round_values(u_conv_dict))\n",
        "print('Linear:\\t', round_values(lin_conv_dict))\n",
        "print('Decay: \\t', round_values(time_decay_conv_dict))\n",
        "print('Markov:\\t', round_values(model['markov_conversions']))"
      ],
      "metadata": {
        "colab": {
          "base_uri": "https://localhost:8080/"
        },
        "id": "ZrxNzfMVUZKo",
        "outputId": "442d3ef3-8360-45ee-f427-cab1a06f9b35"
      },
      "execution_count": 8,
      "outputs": [
        {
          "output_type": "stream",
          "name": "stdout",
          "text": [
            "Of all 1 conversions, how many can be attributed to each channel?\n",
            "\n",
            "Last: \t {'S': 0, 'P': 0, 'E': 1}\n",
            "First: \t {'S': 0, 'P': 1, 'E': 0}\n",
            "U-shape: {'S': 0, 'P': 0.5, 'E': 0.5}\n",
            "Linear:\t {'S': 0, 'P': 0.5, 'E': 0.5}\n",
            "Decay: \t {'S': 0, 'P': 0.333, 'E': 0.667}\n",
            "Markov:\t {'S': 0.333, 'P': 0.222, 'E': 0.444}\n"
          ]
        }
      ]
    },
    {
      "cell_type": "markdown",
      "source": [
        "Proportions of Attribution"
      ],
      "metadata": {
        "id": "E1gJb4q2jmDk"
      }
    },
    {
      "cell_type": "code",
      "source": [
        "def proportion_of_attribution(test_dict, total_conversions):\n",
        "  temp = {}\n",
        "  for key in test_dict:\n",
        "      temp[key] = round(test_dict[key] / total_conversions, 3)\n",
        "  return temp"
      ],
      "metadata": {
        "id": "o_aLhWKoeFyM"
      },
      "execution_count": 9,
      "outputs": []
    },
    {
      "cell_type": "code",
      "source": [
        "print(f'What percentage of conversions can be attributed to each channel?\\n')\n",
        "print('Last: \\t', proportion_of_attribution(last_conv_dict, total_conversions))\n",
        "print('First: \\t', proportion_of_attribution(first_conv_dict, total_conversions))\n",
        "print('U-shape:', proportion_of_attribution(u_conv_dict, total_conversions))\n",
        "print('Linear:\\t', proportion_of_attribution(lin_conv_dict, total_conversions))\n",
        "print('Decay: \\t', proportion_of_attribution(time_decay_conv_dict, total_conversions))\n",
        "print('Markov:\\t', proportion_of_attribution(model['markov_conversions'], total_conversions))"
      ],
      "metadata": {
        "colab": {
          "base_uri": "https://localhost:8080/"
        },
        "id": "xbn1XULsipCR",
        "outputId": "3c92b803-fa10-4fa4-aa80-1a98690faa58"
      },
      "execution_count": 10,
      "outputs": [
        {
          "output_type": "stream",
          "name": "stdout",
          "text": [
            "What percentage of conversions can be attributed to each channel?\n",
            "\n",
            "Last: \t {'S': 0.0, 'P': 0.0, 'E': 1.0}\n",
            "First: \t {'S': 0.0, 'P': 1.0, 'E': 0.0}\n",
            "U-shape: {'S': 0.0, 'P': 0.5, 'E': 0.5}\n",
            "Linear:\t {'S': 0.0, 'P': 0.5, 'E': 0.5}\n",
            "Decay: \t {'S': 0.0, 'P': 0.333, 'E': 0.667}\n",
            "Markov:\t {'S': 0.333, 'P': 0.222, 'E': 0.444}\n"
          ]
        }
      ]
    },
    {
      "cell_type": "code",
      "source": [],
      "metadata": {
        "id": "pk0N4h1UjXMK"
      },
      "execution_count": null,
      "outputs": []
    }
  ]
}